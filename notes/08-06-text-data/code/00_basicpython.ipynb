{
 "cells": [
  {
   "cell_type": "code",
   "execution_count": 53,
   "metadata": {},
   "outputs": [],
   "source": [
    "## specify to print all output in a call\n",
    "## and not just first\n",
    "from IPython.core.interactiveshell import InteractiveShell\n",
    "InteractiveShell.ast_node_interactivity = \"all\""
   ]
  },
  {
   "cell_type": "markdown",
   "metadata": {},
   "source": [
    "# Lists"
   ]
  },
  {
   "cell_type": "code",
   "execution_count": 1,
   "metadata": {},
   "outputs": [],
   "source": [
    "angry_words = [\"mad\", \"annoyed\", \"whyyyyyy\", \"seriously\"]\n",
    "formality = [\"formal\", \"formal\", \"informal\", \"informal\"]"
   ]
  },
  {
   "cell_type": "code",
   "execution_count": 2,
   "metadata": {},
   "outputs": [
    {
     "name": "stdout",
     "output_type": "stream",
     "text": [
      "mad\n"
     ]
    },
    {
     "data": {
      "text/plain": [
       "['mad', 'annoyed', 'whyyyyyy', 'seriously', 'forgot this angry word']"
      ]
     },
     "execution_count": 2,
     "metadata": {},
     "output_type": "execute_result"
    }
   ],
   "source": [
    "print(angry_words[0])\n",
    "new_angry_words = angry_words + [\"forgot this angry word\"]\n",
    "new_angry_words\n"
   ]
  },
  {
   "cell_type": "code",
   "execution_count": 3,
   "metadata": {},
   "outputs": [
    {
     "name": "stdout",
     "output_type": "stream",
     "text": [
      "<class 'str'>\n",
      "<class 'list'>\n",
      "whyyyyyy did you do that\n"
     ]
    },
    {
     "data": {
      "text/plain": [
       "['whyyyyyy']"
      ]
     },
     "execution_count": 3,
     "metadata": {},
     "output_type": "execute_result"
    }
   ],
   "source": [
    "sentence = \"whyyyyyy did you do that\"\n",
    "\n",
    "## split sentence\n",
    "split_sentence = sentence.split()\n",
    "print(type(sentence))\n",
    "print(type(split_sentence))\n",
    "print(sentence)\n",
    "\n",
    "## iterate over sentence and filter to \n",
    "## only angry words\n",
    "only_angry = [word for word in sentence.split() if \n",
    "              word in angry_words]\n",
    "only_angry"
   ]
  },
  {
   "cell_type": "code",
   "execution_count": 4,
   "metadata": {},
   "outputs": [
    {
     "data": {
      "text/plain": [
       "'whyyyyyy'"
      ]
     },
     "execution_count": 4,
     "metadata": {},
     "output_type": "execute_result"
    }
   ],
   "source": [
    "only_angry_sentence = \" \".join(only_angry)\n",
    "only_angry_sentence"
   ]
  },
  {
   "cell_type": "markdown",
   "metadata": {},
   "source": [
    "# Dictionaries\n",
    "\n",
    "Good for storing lists and can then retrieve using key rather than index. Unlike dataframes, don't need to be same size\n"
   ]
  },
  {
   "cell_type": "code",
   "execution_count": 5,
   "metadata": {},
   "outputs": [],
   "source": [
    "formality_dictionary = {} \n",
    "formality_dictionary['angry_words'] = angry_words\n",
    "formality_dictionary['formality'] = formality"
   ]
  },
  {
   "cell_type": "code",
   "execution_count": 6,
   "metadata": {},
   "outputs": [
    {
     "data": {
      "text/plain": [
       "{'angry_words': ['mad', 'annoyed', 'whyyyyyy', 'seriously'],\n",
       " 'formality': ['formal', 'formal', 'informal', 'informal']}"
      ]
     },
     "execution_count": 6,
     "metadata": {},
     "output_type": "execute_result"
    }
   ],
   "source": [
    "formality_dictionary"
   ]
  },
  {
   "cell_type": "markdown",
   "metadata": {},
   "source": [
    "# Transforming into a dataframe"
   ]
  },
  {
   "cell_type": "code",
   "execution_count": 10,
   "metadata": {},
   "outputs": [
    {
     "data": {
      "text/html": [
       "<div>\n",
       "<style scoped>\n",
       "    .dataframe tbody tr th:only-of-type {\n",
       "        vertical-align: middle;\n",
       "    }\n",
       "\n",
       "    .dataframe tbody tr th {\n",
       "        vertical-align: top;\n",
       "    }\n",
       "\n",
       "    .dataframe thead th {\n",
       "        text-align: right;\n",
       "    }\n",
       "</style>\n",
       "<table border=\"1\" class=\"dataframe\">\n",
       "  <thead>\n",
       "    <tr style=\"text-align: right;\">\n",
       "      <th></th>\n",
       "      <th>angry_words</th>\n",
       "      <th>formality</th>\n",
       "      <th>formality_binary</th>\n",
       "      <th>word_and_formality</th>\n",
       "    </tr>\n",
       "  </thead>\n",
       "  <tbody>\n",
       "    <tr>\n",
       "      <th>0</th>\n",
       "      <td>mad</td>\n",
       "      <td>formal</td>\n",
       "      <td>1</td>\n",
       "      <td>mad_formal</td>\n",
       "    </tr>\n",
       "    <tr>\n",
       "      <th>1</th>\n",
       "      <td>annoyed</td>\n",
       "      <td>formal</td>\n",
       "      <td>1</td>\n",
       "      <td>annoyed_formal</td>\n",
       "    </tr>\n",
       "    <tr>\n",
       "      <th>2</th>\n",
       "      <td>whyyyyyy</td>\n",
       "      <td>informal</td>\n",
       "      <td>0</td>\n",
       "      <td>whyyyyyy_informal</td>\n",
       "    </tr>\n",
       "    <tr>\n",
       "      <th>3</th>\n",
       "      <td>seriously</td>\n",
       "      <td>informal</td>\n",
       "      <td>0</td>\n",
       "      <td>seriously_informal</td>\n",
       "    </tr>\n",
       "  </tbody>\n",
       "</table>\n",
       "</div>"
      ],
      "text/plain": [
       "  angry_words formality  formality_binary  word_and_formality\n",
       "0         mad    formal                 1          mad_formal\n",
       "1     annoyed    formal                 1      annoyed_formal\n",
       "2    whyyyyyy  informal                 0   whyyyyyy_informal\n",
       "3   seriously  informal                 0  seriously_informal"
      ]
     },
     "execution_count": 10,
     "metadata": {},
     "output_type": "execute_result"
    }
   ],
   "source": [
    "import pandas as pd\n",
    "import numpy as np\n",
    "\n",
    "formality_df = pd.DataFrame(formality_dictionary)\n",
    "formality_df.head()\n",
    "formality_df['formality_binary'] = np.where(formality_df.formality == \n",
    "                                            \"formal\", 1, 0)\n",
    "formality_df['word_and_formality'] = formality_df.angry_words + \"_\" + \\\n",
    "                                formality_df.formality\n",
    "formality_df.head()"
   ]
  },
  {
   "cell_type": "markdown",
   "metadata": {},
   "source": [
    "# Re for text wrangling"
   ]
  },
  {
   "cell_type": "code",
   "execution_count": 29,
   "metadata": {},
   "outputs": [
    {
     "name": "stdout",
     "output_type": "stream",
     "text": [
      "<class '_sre.SRE_Match'>\n",
      "AmericanUniversity\n",
      "Americanuniversity\n"
     ]
    },
    {
     "data": {
      "text/plain": [
       "['AmericanUniversity', 'Americanuniversity']"
      ]
     },
     "execution_count": 29,
     "metadata": {},
     "output_type": "execute_result"
    }
   ],
   "source": [
    "import re\n",
    "\n",
    "## Task: find the part of the string with AU\n",
    "strings = [\"AmericanUniversity_datascience\", \n",
    "           \"Americanuniversity_datascience\"]\n",
    "\n",
    "## manually search each item\n",
    "au_pattern = \"(American[u|U]niversity)\"\n",
    "search_result = re.search(au_pattern, \n",
    "                          strings[0])\n",
    "print(type(search_result))\n",
    "print(search_result.group(1))\n",
    "search_result = re.search(au_pattern, \n",
    "                          strings[1])\n",
    "print(search_result.group(1))\n",
    "\n",
    "## do via list iteration\n",
    "all_results = [re.search(au_pattern, one_string).group(1) \n",
    "               for one_string in strings]\n",
    "all_results\n"
   ]
  },
  {
   "cell_type": "markdown",
   "metadata": {},
   "source": [
    "# String operator within pandas for text wrangling\n",
    "\n",
    "Use airbnb listings data from here: https://www.kaggle.com/dgomonov/new-york-city-airbnb-open-data/data#"
   ]
  },
  {
   "cell_type": "code",
   "execution_count": 36,
   "metadata": {},
   "outputs": [],
   "source": [
    "import glob"
   ]
  },
  {
   "cell_type": "code",
   "execution_count": 160,
   "metadata": {},
   "outputs": [
    {
     "data": {
      "text/plain": [
       "['../data_small/AB_NYC_2019.csv']"
      ]
     },
     "execution_count": 160,
     "metadata": {},
     "output_type": "execute_result"
    }
   ],
   "source": [
    "nyc_file = glob.glob(\"../data_small/*NYC*\")\n",
    "nyc_file"
   ]
  },
  {
   "cell_type": "code",
   "execution_count": 161,
   "metadata": {},
   "outputs": [],
   "source": [
    "airbnb_nyc = pd.read_csv(nyc_file[0])"
   ]
  },
  {
   "cell_type": "code",
   "execution_count": 66,
   "metadata": {},
   "outputs": [
    {
     "data": {
      "text/html": [
       "<div>\n",
       "<style scoped>\n",
       "    .dataframe tbody tr th:only-of-type {\n",
       "        vertical-align: middle;\n",
       "    }\n",
       "\n",
       "    .dataframe tbody tr th {\n",
       "        vertical-align: top;\n",
       "    }\n",
       "\n",
       "    .dataframe thead th {\n",
       "        text-align: right;\n",
       "    }\n",
       "</style>\n",
       "<table border=\"1\" class=\"dataframe\">\n",
       "  <thead>\n",
       "    <tr style=\"text-align: right;\">\n",
       "      <th></th>\n",
       "      <th>name</th>\n",
       "      <th>neighbourhood_group</th>\n",
       "      <th>neighbourhood</th>\n",
       "    </tr>\n",
       "  </thead>\n",
       "  <tbody>\n",
       "    <tr>\n",
       "      <th>0</th>\n",
       "      <td>Clean &amp; quiet apt home by the park</td>\n",
       "      <td>Brooklyn</td>\n",
       "      <td>Kensington</td>\n",
       "    </tr>\n",
       "    <tr>\n",
       "      <th>1</th>\n",
       "      <td>Skylit Midtown Castle</td>\n",
       "      <td>Manhattan</td>\n",
       "      <td>Midtown</td>\n",
       "    </tr>\n",
       "    <tr>\n",
       "      <th>2</th>\n",
       "      <td>THE VILLAGE OF HARLEM....NEW YORK !</td>\n",
       "      <td>Manhattan</td>\n",
       "      <td>Harlem</td>\n",
       "    </tr>\n",
       "    <tr>\n",
       "      <th>3</th>\n",
       "      <td>Cozy Entire Floor of Brownstone</td>\n",
       "      <td>Brooklyn</td>\n",
       "      <td>Clinton Hill</td>\n",
       "    </tr>\n",
       "    <tr>\n",
       "      <th>4</th>\n",
       "      <td>Entire Apt: Spacious Studio/Loft by central park</td>\n",
       "      <td>Manhattan</td>\n",
       "      <td>East Harlem</td>\n",
       "    </tr>\n",
       "  </tbody>\n",
       "</table>\n",
       "</div>"
      ],
      "text/plain": [
       "                                               name neighbourhood_group  \\\n",
       "0                Clean & quiet apt home by the park            Brooklyn   \n",
       "1                             Skylit Midtown Castle           Manhattan   \n",
       "2               THE VILLAGE OF HARLEM....NEW YORK !           Manhattan   \n",
       "3                   Cozy Entire Floor of Brownstone            Brooklyn   \n",
       "4  Entire Apt: Spacious Studio/Loft by central park           Manhattan   \n",
       "\n",
       "  neighbourhood  \n",
       "0    Kensington  \n",
       "1       Midtown  \n",
       "2        Harlem  \n",
       "3  Clinton Hill  \n",
       "4   East Harlem  "
      ]
     },
     "execution_count": 66,
     "metadata": {},
     "output_type": "execute_result"
    }
   ],
   "source": [
    "## view head of data\n",
    "rel_cols = ['name'] + [col for col in airbnb_nyc.columns if \n",
    "                       \"neighbourhood\" in col]\n",
    "airbnb_nyc[rel_cols].head()\n",
    "\n",
    "## convert all words in the listing name to lowercase\n",
    "airbnb_nyc['listing_lower'] = airbnb_nyc.name.str.lower()\n",
    "\n",
    "## create a binary indicator for whether the review mentions\n",
    "## the word \"cozy\"\n",
    "airbnb_nyc['describes_cozy'] = np.where(airbnb_nyc.listing_lower.\\\n",
    "                                        str.contains(\"cozy\"), \n",
    "                                        1, 0)"
   ]
  },
  {
   "cell_type": "code",
   "execution_count": 67,
   "metadata": {},
   "outputs": [
    {
     "data": {
      "text/html": [
       "<div>\n",
       "<style scoped>\n",
       "    .dataframe tbody tr th:only-of-type {\n",
       "        vertical-align: middle;\n",
       "    }\n",
       "\n",
       "    .dataframe tbody tr th {\n",
       "        vertical-align: top;\n",
       "    }\n",
       "\n",
       "    .dataframe thead th {\n",
       "        text-align: right;\n",
       "    }\n",
       "</style>\n",
       "<table border=\"1\" class=\"dataframe\">\n",
       "  <thead>\n",
       "    <tr style=\"text-align: right;\">\n",
       "      <th></th>\n",
       "      <th>listing_lower</th>\n",
       "      <th>describes_cozy</th>\n",
       "    </tr>\n",
       "  </thead>\n",
       "  <tbody>\n",
       "    <tr>\n",
       "      <th>0</th>\n",
       "      <td>clean &amp; quiet apt home by the park</td>\n",
       "      <td>0</td>\n",
       "    </tr>\n",
       "    <tr>\n",
       "      <th>1</th>\n",
       "      <td>skylit midtown castle</td>\n",
       "      <td>0</td>\n",
       "    </tr>\n",
       "    <tr>\n",
       "      <th>2</th>\n",
       "      <td>the village of harlem....new york !</td>\n",
       "      <td>0</td>\n",
       "    </tr>\n",
       "    <tr>\n",
       "      <th>3</th>\n",
       "      <td>cozy entire floor of brownstone</td>\n",
       "      <td>1</td>\n",
       "    </tr>\n",
       "    <tr>\n",
       "      <th>4</th>\n",
       "      <td>entire apt: spacious studio/loft by central park</td>\n",
       "      <td>0</td>\n",
       "    </tr>\n",
       "  </tbody>\n",
       "</table>\n",
       "</div>"
      ],
      "text/plain": [
       "                                      listing_lower  describes_cozy\n",
       "0                clean & quiet apt home by the park               0\n",
       "1                             skylit midtown castle               0\n",
       "2               the village of harlem....new york !               0\n",
       "3                   cozy entire floor of brownstone               1\n",
       "4  entire apt: spacious studio/loft by central park               0"
      ]
     },
     "execution_count": 67,
     "metadata": {},
     "output_type": "execute_result"
    }
   ],
   "source": [
    "airbnb_nyc[['listing_lower'] + ['describes_cozy']].head()"
   ]
  },
  {
   "cell_type": "code",
   "execution_count": 86,
   "metadata": {},
   "outputs": [
    {
     "data": {
      "text/plain": [
       "0    43768\n",
       "1     5127\n",
       "Name: describes_cozy, dtype: int64"
      ]
     },
     "execution_count": 86,
     "metadata": {},
     "output_type": "execute_result"
    },
    {
     "data": {
      "text/html": [
       "<div>\n",
       "<style scoped>\n",
       "    .dataframe tbody tr th:only-of-type {\n",
       "        vertical-align: middle;\n",
       "    }\n",
       "\n",
       "    .dataframe tbody tr th {\n",
       "        vertical-align: top;\n",
       "    }\n",
       "\n",
       "    .dataframe thead th {\n",
       "        text-align: right;\n",
       "    }\n",
       "</style>\n",
       "<table border=\"1\" class=\"dataframe\">\n",
       "  <thead>\n",
       "    <tr style=\"text-align: right;\">\n",
       "      <th></th>\n",
       "      <th>no_cozy</th>\n",
       "      <th>cozy</th>\n",
       "    </tr>\n",
       "    <tr>\n",
       "      <th>neighbourhood_group</th>\n",
       "      <th></th>\n",
       "      <th></th>\n",
       "    </tr>\n",
       "  </thead>\n",
       "  <tbody>\n",
       "    <tr>\n",
       "      <th>Queens</th>\n",
       "      <td>0.861631</td>\n",
       "      <td>0.138369</td>\n",
       "    </tr>\n",
       "    <tr>\n",
       "      <th>Staten Island</th>\n",
       "      <td>0.873995</td>\n",
       "      <td>0.126005</td>\n",
       "    </tr>\n",
       "    <tr>\n",
       "      <th>Bronx</th>\n",
       "      <td>0.884510</td>\n",
       "      <td>0.115490</td>\n",
       "    </tr>\n",
       "    <tr>\n",
       "      <th>Brooklyn</th>\n",
       "      <td>0.897632</td>\n",
       "      <td>0.102368</td>\n",
       "    </tr>\n",
       "    <tr>\n",
       "      <th>Manhattan</th>\n",
       "      <td>0.902498</td>\n",
       "      <td>0.097502</td>\n",
       "    </tr>\n",
       "  </tbody>\n",
       "</table>\n",
       "</div>"
      ],
      "text/plain": [
       "                      no_cozy      cozy\n",
       "neighbourhood_group                    \n",
       "Queens               0.861631  0.138369\n",
       "Staten Island        0.873995  0.126005\n",
       "Bronx                0.884510  0.115490\n",
       "Brooklyn             0.897632  0.102368\n",
       "Manhattan            0.902498  0.097502"
      ]
     },
     "execution_count": 86,
     "metadata": {},
     "output_type": "execute_result"
    }
   ],
   "source": [
    "## summarise proportion by neighborhood\n",
    "airbnb_nyc.describes_cozy.value_counts()\n",
    "count_neigh = pd.crosstab(airbnb_nyc.neighbourhood_group, \n",
    "                          airbnb_nyc.describes_cozy, \n",
    "                          normalize = \"index\")\n",
    "count_neigh.columns = [\"no_cozy\", \"cozy\"]\n",
    "count_neigh.sort_values(by = \"cozy\", ascending = False)"
   ]
  },
  {
   "cell_type": "markdown",
   "metadata": {},
   "source": [
    "# Create DTM"
   ]
  },
  {
   "cell_type": "code",
   "execution_count": 104,
   "metadata": {},
   "outputs": [],
   "source": [
    "from nltk.tokenize import wordpunct_tokenize\n",
    "from sklearn.feature_extraction.text import CountVectorizer"
   ]
  },
  {
   "cell_type": "code",
   "execution_count": 105,
   "metadata": {},
   "outputs": [],
   "source": [
    "tokens = [wordpunct_tokenize(str(listing)) for listing in airbnb_nyc.listing_lower[0:5].tolist()]"
   ]
  },
  {
   "cell_type": "code",
   "execution_count": 132,
   "metadata": {},
   "outputs": [
    {
     "data": {
      "text/plain": [
       "0                   clean & quiet apt home by the park\n",
       "1                                skylit midtown castle\n",
       "2                  the village of harlem....new york !\n",
       "3                      cozy entire floor of brownstone\n",
       "4     entire apt: spacious studio/loft by central park\n",
       "5            large cozy 1 br apartment in midtown east\n",
       "6                                      blissartsspace!\n",
       "7                     large furnished room near b'way \n",
       "8                   cozy clean guest room - family apt\n",
       "9                   cute & cozy lower east side 1 bdrm\n",
       "10                    beautiful 1br on upper west side\n",
       "11                     central manhattan/near broadway\n",
       "12      lovely room 1, garden, best area, legal rental\n",
       "13    wonderful guest bedroom in manhattan for singles\n",
       "14                       west village nest - superhost\n",
       "15                    only 2 stops to manhattan studio\n",
       "16                   perfect for your parents + garden\n",
       "17                                     chelsea perfect\n",
       "18     hip historic brownstone apartment with backyard\n",
       "19                   huge 2 br upper east  cental park\n",
       "Name: listing_lower, dtype: object"
      ]
     },
     "execution_count": 132,
     "metadata": {},
     "output_type": "execute_result"
    },
    {
     "data": {
      "text/html": [
       "<div>\n",
       "<style scoped>\n",
       "    .dataframe tbody tr th:only-of-type {\n",
       "        vertical-align: middle;\n",
       "    }\n",
       "\n",
       "    .dataframe tbody tr th {\n",
       "        vertical-align: top;\n",
       "    }\n",
       "\n",
       "    .dataframe thead th {\n",
       "        text-align: right;\n",
       "    }\n",
       "</style>\n",
       "<table border=\"1\" class=\"dataframe\">\n",
       "  <thead>\n",
       "    <tr style=\"text-align: right;\">\n",
       "      <th></th>\n",
       "      <th>1br</th>\n",
       "      <th>apartment</th>\n",
       "      <th>apt</th>\n",
       "      <th>area</th>\n",
       "      <th>backyard</th>\n",
       "      <th>bdrm</th>\n",
       "      <th>beautiful</th>\n",
       "      <th>bedroom</th>\n",
       "      <th>best</th>\n",
       "      <th>blissartsspace</th>\n",
       "      <th>...</th>\n",
       "      <th>the</th>\n",
       "      <th>to</th>\n",
       "      <th>upper</th>\n",
       "      <th>village</th>\n",
       "      <th>way</th>\n",
       "      <th>west</th>\n",
       "      <th>with</th>\n",
       "      <th>wonderful</th>\n",
       "      <th>york</th>\n",
       "      <th>your</th>\n",
       "    </tr>\n",
       "  </thead>\n",
       "  <tbody>\n",
       "    <tr>\n",
       "      <th>0</th>\n",
       "      <td>0</td>\n",
       "      <td>0</td>\n",
       "      <td>1</td>\n",
       "      <td>0</td>\n",
       "      <td>0</td>\n",
       "      <td>0</td>\n",
       "      <td>0</td>\n",
       "      <td>0</td>\n",
       "      <td>0</td>\n",
       "      <td>0</td>\n",
       "      <td>...</td>\n",
       "      <td>1</td>\n",
       "      <td>0</td>\n",
       "      <td>0</td>\n",
       "      <td>0</td>\n",
       "      <td>0</td>\n",
       "      <td>0</td>\n",
       "      <td>0</td>\n",
       "      <td>0</td>\n",
       "      <td>0</td>\n",
       "      <td>0</td>\n",
       "    </tr>\n",
       "    <tr>\n",
       "      <th>1</th>\n",
       "      <td>0</td>\n",
       "      <td>0</td>\n",
       "      <td>0</td>\n",
       "      <td>0</td>\n",
       "      <td>0</td>\n",
       "      <td>0</td>\n",
       "      <td>0</td>\n",
       "      <td>0</td>\n",
       "      <td>0</td>\n",
       "      <td>0</td>\n",
       "      <td>...</td>\n",
       "      <td>0</td>\n",
       "      <td>0</td>\n",
       "      <td>0</td>\n",
       "      <td>0</td>\n",
       "      <td>0</td>\n",
       "      <td>0</td>\n",
       "      <td>0</td>\n",
       "      <td>0</td>\n",
       "      <td>0</td>\n",
       "      <td>0</td>\n",
       "    </tr>\n",
       "    <tr>\n",
       "      <th>2</th>\n",
       "      <td>0</td>\n",
       "      <td>0</td>\n",
       "      <td>0</td>\n",
       "      <td>0</td>\n",
       "      <td>0</td>\n",
       "      <td>0</td>\n",
       "      <td>0</td>\n",
       "      <td>0</td>\n",
       "      <td>0</td>\n",
       "      <td>0</td>\n",
       "      <td>...</td>\n",
       "      <td>1</td>\n",
       "      <td>0</td>\n",
       "      <td>0</td>\n",
       "      <td>1</td>\n",
       "      <td>0</td>\n",
       "      <td>0</td>\n",
       "      <td>0</td>\n",
       "      <td>0</td>\n",
       "      <td>1</td>\n",
       "      <td>0</td>\n",
       "    </tr>\n",
       "    <tr>\n",
       "      <th>3</th>\n",
       "      <td>0</td>\n",
       "      <td>0</td>\n",
       "      <td>0</td>\n",
       "      <td>0</td>\n",
       "      <td>0</td>\n",
       "      <td>0</td>\n",
       "      <td>0</td>\n",
       "      <td>0</td>\n",
       "      <td>0</td>\n",
       "      <td>0</td>\n",
       "      <td>...</td>\n",
       "      <td>0</td>\n",
       "      <td>0</td>\n",
       "      <td>0</td>\n",
       "      <td>0</td>\n",
       "      <td>0</td>\n",
       "      <td>0</td>\n",
       "      <td>0</td>\n",
       "      <td>0</td>\n",
       "      <td>0</td>\n",
       "      <td>0</td>\n",
       "    </tr>\n",
       "    <tr>\n",
       "      <th>4</th>\n",
       "      <td>0</td>\n",
       "      <td>0</td>\n",
       "      <td>1</td>\n",
       "      <td>0</td>\n",
       "      <td>0</td>\n",
       "      <td>0</td>\n",
       "      <td>0</td>\n",
       "      <td>0</td>\n",
       "      <td>0</td>\n",
       "      <td>0</td>\n",
       "      <td>...</td>\n",
       "      <td>0</td>\n",
       "      <td>0</td>\n",
       "      <td>0</td>\n",
       "      <td>0</td>\n",
       "      <td>0</td>\n",
       "      <td>0</td>\n",
       "      <td>0</td>\n",
       "      <td>0</td>\n",
       "      <td>0</td>\n",
       "      <td>0</td>\n",
       "    </tr>\n",
       "  </tbody>\n",
       "</table>\n",
       "<p>5 rows × 71 columns</p>\n",
       "</div>"
      ],
      "text/plain": [
       "   1br  apartment  apt  area  backyard  bdrm  beautiful  bedroom  best  \\\n",
       "0    0          0    1     0         0     0          0        0     0   \n",
       "1    0          0    0     0         0     0          0        0     0   \n",
       "2    0          0    0     0         0     0          0        0     0   \n",
       "3    0          0    0     0         0     0          0        0     0   \n",
       "4    0          0    1     0         0     0          0        0     0   \n",
       "\n",
       "   blissartsspace  ...   the  to  upper  village  way  west  with  wonderful  \\\n",
       "0               0  ...     1   0      0        0    0     0     0          0   \n",
       "1               0  ...     0   0      0        0    0     0     0          0   \n",
       "2               0  ...     1   0      0        1    0     0     0          0   \n",
       "3               0  ...     0   0      0        0    0     0     0          0   \n",
       "4               0  ...     0   0      0        0    0     0     0          0   \n",
       "\n",
       "   york  your  \n",
       "0     0     0  \n",
       "1     0     0  \n",
       "2     1     0  \n",
       "3     0     0  \n",
       "4     0     0  \n",
       "\n",
       "[5 rows x 71 columns]"
      ]
     },
     "execution_count": 132,
     "metadata": {},
     "output_type": "execute_result"
    }
   ],
   "source": [
    "list_of_strings = airbnb_nyc.listing_lower[0:20]\n",
    "list_of_strings\n",
    "vectorizer = CountVectorizer(lowercase = True)\n",
    "dtm_sparse = vectorizer.fit_transform(list_of_strings)\n",
    "dtm_dense_named = pd.DataFrame(dtm_sparse.todense(), columns=vectorizer.get_feature_names())\n",
    "dtm_dense_named.head()"
   ]
  },
  {
   "cell_type": "code",
   "execution_count": 133,
   "metadata": {},
   "outputs": [],
   "source": [
    "from nltk.corpus import stopwords"
   ]
  },
  {
   "cell_type": "code",
   "execution_count": 138,
   "metadata": {},
   "outputs": [],
   "source": [
    "list_stopwords = stopwords.words('english')\n",
    "list_stopwords_new = list_stopwords + ['apartment', 'apt']"
   ]
  },
  {
   "cell_type": "code",
   "execution_count": 151,
   "metadata": {},
   "outputs": [
    {
     "data": {
      "text/plain": [
       "'large cozy 1 br apartment in midtown east'"
      ]
     },
     "execution_count": 151,
     "metadata": {},
     "output_type": "execute_result"
    }
   ],
   "source": [
    "## example with one string\n",
    "one_listing = airbnb_nyc.listing_lower[5]\n",
    "one_listing"
   ]
  },
  {
   "cell_type": "code",
   "execution_count": 152,
   "metadata": {},
   "outputs": [
    {
     "data": {
      "text/plain": [
       "['large', 'cozy', '1', 'br', 'apartment', 'in', 'midtown', 'east']"
      ]
     },
     "execution_count": 152,
     "metadata": {},
     "output_type": "execute_result"
    }
   ],
   "source": [
    "## tokenize\n",
    "one_listing_tokenized = wordpunct_tokenize(one_listing)\n",
    "one_listing_tokenized"
   ]
  },
  {
   "cell_type": "code",
   "execution_count": 153,
   "metadata": {},
   "outputs": [
    {
     "data": {
      "text/plain": [
       "['large', 'cozy', '1', 'br', 'midtown', 'east']"
      ]
     },
     "execution_count": 153,
     "metadata": {},
     "output_type": "execute_result"
    }
   ],
   "source": [
    "## filter out stopwords\n",
    "one_listing_nostop = [token for token in \n",
    "                    one_listing_tokenized if \n",
    "                    token not in list_stopwords_new]\n",
    "one_listing_nostop\n"
   ]
  },
  {
   "cell_type": "code",
   "execution_count": 157,
   "metadata": {},
   "outputs": [
    {
     "data": {
      "text/plain": [
       "['larg', 'cozi', 'midtown', 'east']"
      ]
     },
     "execution_count": 157,
     "metadata": {},
     "output_type": "execute_result"
    }
   ],
   "source": [
    "from nltk.stem.porter import PorterStemmer\n",
    "porter = PorterStemmer()\n",
    "onelisting_nostop_nopunct_stemmed_onlywords = [porter.stem(token) \n",
    "                            for token in one_listing_nostop \n",
    "                            if token.isalpha() and \n",
    "                            len(token) > 2]\n",
    "onelisting_nostop_nopunct_stemmed_onlywords "
   ]
  },
  {
   "cell_type": "code",
   "execution_count": null,
   "metadata": {},
   "outputs": [],
   "source": [
    "## recombine into string for further processing\n",
    "one_listing_nostop_string = \" \".join(one_listing_nostop)\n",
    "one_listing_nostop_string"
   ]
  }
 ],
 "metadata": {
  "kernelspec": {
   "display_name": "Python 3",
   "language": "python",
   "name": "python3"
  },
  "language_info": {
   "codemirror_mode": {
    "name": "ipython",
    "version": 3
   },
   "file_extension": ".py",
   "mimetype": "text/x-python",
   "name": "python",
   "nbconvert_exporter": "python",
   "pygments_lexer": "ipython3",
   "version": "3.6.4"
  }
 },
 "nbformat": 4,
 "nbformat_minor": 2
}
